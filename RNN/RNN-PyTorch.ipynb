{
 "cells": [
  {
   "cell_type": "code",
   "execution_count": 65,
   "metadata": {},
   "outputs": [
    {
     "name": "stdout",
     "output_type": "stream",
     "text": [
      "Device available now: cpu\n"
     ]
    }
   ],
   "source": [
    "# Imports\n",
    "import torch\n",
    "import torch.nn as nn\n",
    "import torch.nn.functional as F\n",
    "import torch.optim as optim\n",
    "import os\n",
    "import numpy as np\n",
    "\n",
    "import torchvision\n",
    "import torchvision.transforms as transforms\n",
    "\n",
    "import matplotlib.pyplot as plt\n",
    "%matplotlib inline\n",
    "import sklearn.metrics\n",
    "import seaborn as sns\n",
    "import random\n",
    "from torch.utils.data import DataLoader, TensorDataset\n",
    "\n",
    "# To display YouTube videos\n",
    "from IPython.display import YouTubeVideo\n",
    "\n",
    "# Check for GPU availability\n",
    "device = torch.device('cuda' if torch.cuda.is_available() else 'cpu')\n",
    "print('Device available now:', device)"
   ]
  },
  {
   "cell_type": "code",
   "execution_count": 66,
   "metadata": {},
   "outputs": [],
   "source": [
    "# Load and preprocess the FashionMNIST datasets\n",
    "transform = torchvision.transforms.ToTensor()  # Transform images to tensors\n",
    "\n",
    "# Download and transform the FashionMNIST training data\n",
    "training_data = torchvision.datasets.FashionMNIST(\n",
    "    root=\"data\",\n",
    "    train=True,\n",
    "    download=True,\n",
    "    transform=transform,\n",
    ")\n",
    "\n",
    "# Download and transform the FashionMNIST validation data\n",
    "validation_data = torchvision.datasets.FashionMNIST(\n",
    "    root=\"data\",\n",
    "    train=False,\n",
    "    download=True,\n",
    "    transform=transform,\n",
    ")"
   ]
  },
  {
   "cell_type": "code",
   "execution_count": 21,
   "metadata": {},
   "outputs": [
    {
     "data": {
      "text/plain": [
       "<matplotlib.image.AxesImage at 0x1768ebb10>"
      ]
     },
     "execution_count": 21,
     "metadata": {},
     "output_type": "execute_result"
    },
    {
     "data": {
      "image/png": "[encoded data removed]",
      "text/plain": [
       "<Figure size 640x480 with 1 Axes>"
      ]
     },
     "metadata": {},
     "output_type": "display_data"
    }
   ],
   "source": [
    "# Display a grid of sample images from the training dataset\n",
    "images = [training_data[i][0] for i in range(9)]\n",
    "plt.imshow(torchvision.utils.make_grid(torch.stack(images), nrow=3, padding=5).numpy().transpose((1, 2, 0)))"
   ]
  },
  {
   "cell_type": "code",
   "execution_count": 67,
   "metadata": {},
   "outputs": [],
   "source": [
    "# Normalize the dataset to range [0, 1]\n",
    "X_train = training_data.data / 255.0\n",
    "Y_train = training_data.targets\n",
    "X_test = validation_data.data / 255.0\n",
    "Y_test = validation_data.targets\n",
    "\n",
    "# Prepare datasets and dataloaders\n",
    "dataset_train = TensorDataset(X_train, Y_train)\n",
    "dataloader_train = DataLoader(dataset_train, batch_size=64, shuffle=True)\n",
    "dataset_test = TensorDataset(X_test, Y_test)\n",
    "dataloader_test = DataLoader(dataset_test, batch_size=64, shuffle=False)"
   ]
  },
  {
   "cell_type": "code",
   "execution_count": 68,
   "metadata": {},
   "outputs": [
    {
     "name": "stdout",
     "output_type": "stream",
     "text": [
      "Finished Epoch 50 , training loss: 0.3865785571589653\n",
      "Finished Epoch 100 , training loss: 0.34551134533973643\n",
      "Finished Epoch 150 , training loss: 0.33268171806992497\n",
      "Finished Epoch 200 , training loss: 0.32022599474008656\n",
      "Finished Epoch 250 , training loss: 0.3191070821541332\n",
      "Finished Epoch 300 , training loss: 0.3119993528116868\n",
      "Finished Epoch 350 , training loss: 0.3183390108316438\n",
      "Finished Epoch 400 , training loss: 0.30687985505694265\n",
      "Finished Epoch 450 , training loss: 0.3289097618700853\n",
      "Finished Epoch 500 , training loss: 0.3026955957129312\n"
     ]
    }
   ],
   "source": [
    "# Define the Vanilla RNN model for MNIST-like datasets\n",
    "class VanillaRNN_MNIST(nn.Module):\n",
    "    def __init__(self, input_size, hidden_size, output_size):\n",
    "        super(VanillaRNN_MNIST, self).__init__()\n",
    "        self.hidden_size = hidden_size\n",
    "        self.rnn = nn.RNN(input_size, hidden_size)  # RNN layer\n",
    "        self.layer = nn.Linear(hidden_size, output_size)  # Output layer\n",
    "\n",
    "    def forward(self, images):\n",
    "        # Initialize hidden state (zero-initialized)\n",
    "        batch_size = images.size(0)\n",
    "        self.hidden_state = torch.zeros(1, batch_size, self.hidden_size).to(images.device)\n",
    "        \n",
    "        # Reshape input to [seq_len, batch_size, input_size]\n",
    "        images = images.permute(1, 0, 2)\n",
    "        \n",
    "        # RNN forward pass\n",
    "        hidden_output, _ = self.rnn(images, self.hidden_state)\n",
    "        \n",
    "        # Use the last hidden state for classification\n",
    "        out = self.layer(hidden_output[-1])\n",
    "        return out\n",
    "\n",
    "# Model hyperparameters\n",
    "input_size = 28  # Each row of the image is treated as a time step\n",
    "hidden_size = 40  # Number of RNN units\n",
    "output_size = 10  # 10 output classes (FashionMNIST categories)\n",
    "learning_rate = 0.0005  # Learning rate for the optimizer\n",
    "epochs = 500  # Number of training epochs\n",
    "\n",
    "# Initialize the model, loss function, and optimizer\n",
    "model = VanillaRNN_MNIST(input_size, hidden_size, output_size).to(device)\n",
    "criterion = nn.CrossEntropyLoss()  # Loss function for classification\n",
    "optimizer = optim.Adam(model.parameters(), lr=learning_rate)  # Adam optimizer\n",
    "\n",
    "# Train the model\n",
    "model.train()\n",
    "for epoch in range(epochs):\n",
    "    training_losses = []\n",
    "    for batch in dataloader_train:\n",
    "        # Get the batch data and move to the appropriate device\n",
    "        x, y = batch[0].to(device), batch[1].to(device)\n",
    "        optimizer.zero_grad()  # Reset gradients\n",
    "        \n",
    "        # Forward pass\n",
    "        pred = model(x)\n",
    "        \n",
    "        # Compute loss\n",
    "        loss = criterion(pred, y)\n",
    "        loss.backward()  # Backpropagation\n",
    "        \n",
    "        optimizer.step()  # Update parameters\n",
    "        training_losses.append(loss.item())\n",
    "    \n",
    "    # Print training loss every 50 epochs\n",
    "    if (epoch + 1) % 50 == 0:\n",
    "        print(\"Finished Epoch\", epoch + 1, \", training loss:\", np.mean(training_losses))\n"
   ]
  },
  {
   "cell_type": "code",
   "execution_count": 62,
   "metadata": {},
   "outputs": [
    {
     "name": "stdout",
     "output_type": "stream",
     "text": [
      "Finished Epoch 50 , training loss: 0.385319215386534\n",
      "Finished Epoch 100 , training loss: 0.35597707378044563\n",
      "Finished Epoch 150 , training loss: 0.33392373485955346\n",
      "Finished Epoch 200 , training loss: 0.3238344383296936\n",
      "Finished Epoch 250 , training loss: 0.32178162059772497\n",
      "Finished Epoch 300 , training loss: 0.3139368691392291\n",
      "Finished Epoch 350 , training loss: 0.3150408326435699\n",
      "Finished Epoch 400 , training loss: 0.30458875532661167\n",
      "Finished Epoch 450 , training loss: 0.3064155020534611\n",
      "Finished Epoch 500 , training loss: 0.30960593768147265\n"
     ]
    }
   ],
   "source": [
    "for epoch in range(epochs):\n",
    "    training_losses = []\n",
    "    for batch in dataloader_train:\n",
    "        x, y = batch[0].to(device), batch[1].to(device)\n",
    "        optimizer.zero_grad()\n",
    "        pred = model(x)\n",
    "        loss = criterion(pred,y)\n",
    "        loss.backward()\n",
    "        optimizer.step()\n",
    "        training_losses.append(loss.item())\n",
    "    if (epoch+1)%50 == 0:\n",
    "        print(\"Finished Epoch\", epoch + 1, \", training loss:\", np.mean(training_losses))"
   ]
  },
  {
   "cell_type": "code",
   "execution_count": null,
   "metadata": {},
   "outputs": [
    {
     "name": "stdout",
     "output_type": "stream",
     "text": [
      "Final Accuracy on Training Set:  0.88995\n"
     ]
    }
   ],
   "source": [
    "# Evaluate the model on the training set\n",
    "with torch.no_grad():\n",
    "    model.eval()\n",
    "    num_correct = 0\n",
    "    total_samples = 0\n",
    "    for batch in dataloader_train:\n",
    "        x, y = batch[0].to(device), batch[1].to(device)\n",
    "        pred = model(x)\n",
    "        pred_label = torch.argmax(pred, axis=1)\n",
    "        num_correct += (y == pred_label).sum().item()\n",
    "        total_samples += y.size(0)\n",
    "    print(\"Final Accuracy on Training Set: \", num_correct / total_samples)\n",
    "    model.train()  # Set the model back to training mode"
   ]
  },
  {
   "cell_type": "code",
   "execution_count": null,
   "metadata": {},
   "outputs": [
    {
     "name": "stdout",
     "output_type": "stream",
     "text": [
      "Final Accuracy on Testing Set:  0.8637\n"
     ]
    }
   ],
   "source": [
    "# Evaluate the model on the test set\n",
    "with torch.no_grad():\n",
    "    model.eval()\n",
    "    num_correct = 0\n",
    "    total_samples = 0\n",
    "    for batch in dataloader_test:\n",
    "        x, y = batch[0].to(device), batch[1].to(device)\n",
    "        pred = model(x)\n",
    "        pred_label = torch.argmax(pred, axis=1)\n",
    "        num_correct += (y == pred_label).sum().item()\n",
    "        total_samples += y.size(0)\n",
    "    print(\"Final Accuracy on Testing Set: \", num_correct / total_samples)"
   ]
  }
 ],
 "metadata": {
  "kernelspec": {
   "display_name": "base",
   "language": "python",
   "name": "python3"
  },
  "language_info": {
   "codemirror_mode": {
    "name": "ipython",
    "version": 3
   },
   "file_extension": ".py",
   "mimetype": "text/x-python",
   "name": "python",
   "nbconvert_exporter": "python",
   "pygments_lexer": "ipython3",
   "version": "3.11.5"
  }
 },
 "nbformat": 4,
 "nbformat_minor": 2
}
