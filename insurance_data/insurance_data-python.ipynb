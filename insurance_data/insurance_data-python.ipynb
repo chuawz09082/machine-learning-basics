{
 "cells": [
  {
   "cell_type": "code",
   "execution_count": 42,
   "metadata": {},
   "outputs": [
    {
     "name": "stdout",
     "output_type": "stream",
     "text": [
      "   age  affordibility  bought_insurance\n",
      "0   22              1                 0\n",
      "1   25              0                 0\n",
      "2   47              1                 1\n",
      "3   52              0                 0\n",
      "4   46              1                 1\n",
      "age                 0\n",
      "affordibility       0\n",
      "bought_insurance    0\n",
      "dtype: int64\n",
      "             age  affordibility  bought_insurance\n",
      "count  28.000000      28.000000         28.000000\n",
      "mean   39.892857       0.678571          0.500000\n",
      "std    15.497525       0.475595          0.509175\n",
      "min    18.000000       0.000000          0.000000\n",
      "25%    25.000000       0.000000          0.000000\n",
      "50%    45.500000       1.000000          0.500000\n",
      "75%    54.250000       1.000000          1.000000\n",
      "max    62.000000       1.000000          1.000000\n"
     ]
    }
   ],
   "source": [
    "# Import necessary libraries\n",
    "import numpy as np\n",
    "import matplotlib.pyplot as plt\n",
    "import pandas as pd\n",
    "import seaborn as sns\n",
    "import tensorflow as tf\n",
    "from sklearn.model_selection import train_test_split\n",
    "\n",
    "# Load the dataset\n",
    "df = pd.read_csv(\"insurance_data.csv\")\n",
    "\n",
    "# Display the first few rows of the dataset\n",
    "print(df.head())\n",
    "\n",
    "# Check for any missing values in the dataset\n",
    "print(df.isna().sum())\n",
    "\n",
    "# Display basic statistical details of the dataset\n",
    "print(df.describe())"
   ]
  },
  {
   "cell_type": "code",
   "execution_count": 43,
   "metadata": {},
   "outputs": [
    {
     "name": "stderr",
     "output_type": "stream",
     "text": [
      "/var/folders/jq/s0_w8dhs3rsgnytrh30s62l40000gn/T/ipykernel_5650/4057238113.py:6: SettingWithCopyWarning: \n",
      "A value is trying to be set on a copy of a slice from a DataFrame.\n",
      "Try using .loc[row_indexer,col_indexer] = value instead\n",
      "\n",
      "See the caveats in the documentation: https://pandas.pydata.org/pandas-docs/stable/user_guide/indexing.html#returning-a-view-versus-a-copy\n",
      "  X['age'] = X['age'] / 100\n"
     ]
    }
   ],
   "source": [
    "# Separate features (age and affordability) and target (bought_insurance)\n",
    "X = df[[\"age\", \"affordibility\"]]\n",
    "Y = df[[\"bought_insurance\"]]\n",
    "\n",
    "# Scale the 'age' feature for better model performance\n",
    "X['age'] = X['age'] / 100\n",
    "\n",
    "# Split the dataset into training and testing sets\n",
    "X_train, X_test, Y_train, Y_test = train_test_split(X, Y, test_size=0.2, train_size=0.8, random_state=42)\n",
    "\n",
    "# Reshape Y_train and Y_test to be a 2D array with one column, which is required by the model\n",
    "Y_train_reshape = Y_train.values.reshape(-1,1)\n",
    "Y_test_reshape = Y_test.values.reshape(-1,1)"
   ]
  },
  {
   "cell_type": "code",
   "execution_count": 44,
   "metadata": {},
   "outputs": [],
   "source": [
    "# Define the sigmoid function, which applies the sigmoid activation to input x\n",
    "def sigmoid(x):\n",
    "    return 1/(1+np.exp(-x)) # Ensures values are between 0 and 1\n",
    "\n",
    "# Define the log loss function to measure the model's performance\n",
    "def log_loss(Y_true, Y_predicted):\n",
    "    eps = 1e-15 # Small value to prevent log(0) errors\n",
    "    Y_predicted = np.clip(Y_predicted, eps, 1 - eps) # Clip predictions for numerical stability\n",
    "    # Calculate the binary cross-entropy loss\n",
    "    return -np.mean(Y_true * np.log(Y_predicted) + (1 - Y_true) * np.log(1 - Y_predicted))\n",
    "\n",
    "# Define a one-layer neural network class for binary classification\n",
    "class OnelayerNN:\n",
    "    def __init__(self,shape):\n",
    "        # Initialize weights randomly and bias to zero\n",
    "        self.W = np.random.rand(shape,1)\n",
    "        self.b = 0\n",
    "        \n",
    "    # Method to train the model on the given dataset\n",
    "    def fit(self,X,Y,epochs,lr):\n",
    "        # Perform forward and backward propagation to update weights and bias\n",
    "        self.W,self.b,loss = self.forward_backward_propagation(X,Y,epochs,lr)\n",
    "\n",
    "    # Method to predict outcomes on test data\n",
    "    def predict(self,X_test):\n",
    "        # Compute predictions using the sigmoid activation\n",
    "        return sigmoid(X_test@self.W+self.b)\n",
    "    \n",
    "    # Method to evaluate model performance on the test set\n",
    "    def evaluate(self,X_test,Y_test):\n",
    "        # Predict on test data\n",
    "        Y_predict = self.predict(X_test)\n",
    "        # Calculate and return the log loss\n",
    "        loss = log_loss(Y_test,Y_predict)\n",
    "\n",
    "        # Convert predicted probabilities to binary class labels (0 or 1) based on a threshold of 0.5\n",
    "        Y_predict_labels = np.where(Y_predict > 0.5, 1, 0).reshape(Y_predict.shape[0],)\n",
    "        # Reshape the true labels from the test set to match the shape of predicted labels for comparison\n",
    "        Y_test_labels = Y_test.values.reshape(Y_test.shape[0],)\n",
    "\n",
    "        # Calculate correct predictions by comparing predicted labels with true labels\n",
    "        correct_predictions = (Y_predict_labels == Y_test_labels).astype(int)\n",
    "\n",
    "        # Calculate the accuracy as the percentage of correct predictions\n",
    "        accuracy = np.sum(correct_predictions)*100/correct_predictions.shape[0]\n",
    "\n",
    "        # Print the log loss and accuracy for the test set\n",
    "        print(f'Loss: {loss}, Accuracy: {accuracy}')\n",
    "\n",
    "        # Return the loss and accuracy as the output of the evaluation method\n",
    "        return loss,accuracy\n",
    "    \n",
    "    # Method to perform forward and backward propagation for training\n",
    "    def forward_backward_propagation(self,X,Y,epochs,lr):\n",
    "        # Loop over the specified number of epochs\n",
    "        for epoch in range(epochs+1):\n",
    "            # Forward pass: Compute linear combination of inputs and weights, and apply sigmoid\n",
    "            Z = X@self.W+self.b\n",
    "            Y_predicted = sigmoid(Z)\n",
    "            # Compute the log loss for monitoring training progress\n",
    "            loss = log_loss(Y,Y_predicted)\n",
    "\n",
    "            # Backward pass: Calculate gradients for weights and bias\n",
    "            dLdZ = (Y_predicted - Y)/Y.shape[0] # Gradient of loss with respect to Z\n",
    "            dLdW = X.T@dLdZ # Gradient of loss with respect to W\n",
    "            dLdb = np.sum(dLdZ,axis = 0) # Gradient of loss with respect to b\n",
    "\n",
    "            # Update weights and bias using gradient descent\n",
    "            self.W -= dLdW*lr\n",
    "            self.b -= dLdb*lr\n",
    "\n",
    "            # Print progress every 1000 epochs\n",
    "            if epoch%1000 == 0:\n",
    "                print(f'At Epoch {epoch}: Weight for age: {self.W.values[0][0]}, Weight for affordibility: {self.W.values[1][0]}, b: {self.b.values[0]}, loss: {loss}')\n",
    "\n",
    "        # Return final weights, bias, and loss after training\n",
    "        return self.W,self.b,loss\n",
    "    \n"
   ]
  },
  {
   "cell_type": "code",
   "execution_count": null,
   "metadata": {},
   "outputs": [
    {
     "name": "stdout",
     "output_type": "stream",
     "text": [
      "At Epoch 0: Weight for age: 0.6472273715059638, Weight for affordibility: 0.25469877891490583, b: -0.003148078439162276, loss: 0.672488787161461\n",
      "At Epoch 1000: Weight for age: 1.4249949601788539, Weight for affordibility: 0.7650873274681871, b: -0.9990663069604183, loss: 0.6003027214275551\n",
      "At Epoch 2000: Weight for age: 2.2571158870119303, Weight for affordibility: 0.9942031959266033, b: -1.5120048299188273, loss: 0.5664562775125824\n",
      "At Epoch 3000: Weight for age: 3.0226585994233357, Weight for affordibility: 1.0920044678995156, b: -1.895075734440895, loss: 0.5416550325287376\n",
      "At Epoch 4000: Weight for age: 3.711579540224135, Weight for affordibility: 1.1458299792321207, b: -2.212790720284693, loss: 0.5223454694492495\n",
      "At Epoch 5000: Weight for age: 4.327879849503786, Weight for affordibility: 1.184628513781775, b: -2.4897694528165952, loss: 0.5070579589830916\n",
      "At Epoch 6000: Weight for age: 4.879348147475426, Weight for affordibility: 1.2181184447254336, b: -2.736897957964557, loss: 0.49483337401914446\n",
      "At Epoch 7000: Weight for age: 5.374115382570195, Weight for affordibility: 1.2494662295806251, b: -2.959947156808225, loss: 0.4849717686328729\n",
      "Loss: nan, Accuracy: 100.0\n"
     ]
    }
   ],
   "source": [
    "# Initialize the one-layer neural network model with the number of input features\n",
    "model = OnelayerNN(X_train.shape[1])\n",
    "\n",
    "# Train the model on the training data with 7000 epochs and a learning rate of 0.03\n",
    "model.fit(X_train,Y_train_reshape,7000,0.03)\n",
    "\n",
    "# Evaluate the model's performance on the test set, calculating loss and accuracy\n",
    "model.evaluate(X_test,Y_test)\n",
    "\n",
    "# Predict on test data\n",
    "Y_predict = model.predict(X_test)\n",
    "\n",
    "# Convert predicted probabilities to binary class labels (0 or 1) based on a threshold of 0.5\n",
    "Y_predict_labels = np.where(Y_predict > 0.5, 1, 0).reshape(Y_predict.shape[0],)\n",
    "\n",
    "# Reshape the true labels from the test set to match the shape of predicted labels for comparison\n",
    "Y_test_labels = Y_test.values.reshape(Y_test.shape[0],)"
   ]
  },
  {
   "cell_type": "code",
   "execution_count": 46,
   "metadata": {},
   "outputs": [
    {
     "data": {
      "image/png": "[encoded data removed]",
      "text/plain": [
       "<Figure size 1000x700 with 2 Axes>"
      ]
     },
     "metadata": {},
     "output_type": "display_data"
    }
   ],
   "source": [
    "# Generate a confusion matrix to evaluate model performance on test data\n",
    "cm = tf.math.confusion_matrix(labels=Y_test_labels, predictions=Y_predict_labels)\n",
    "\n",
    "# Plot the confusion matrix using Seaborn's heatmap for visualization\n",
    "plt.figure(figsize=(10, 7))\n",
    "sns.heatmap(cm, annot=True, cmap=\"YlGnBu\")\n",
    "plt.xlabel('Predicted')\n",
    "plt.ylabel('Truth')\n",
    "plt.show()"
   ]
  }
 ],
 "metadata": {
  "kernelspec": {
   "display_name": "base",
   "language": "python",
   "name": "python3"
  },
  "language_info": {
   "codemirror_mode": {
    "name": "ipython",
    "version": 3
   },
   "file_extension": ".py",
   "mimetype": "text/x-python",
   "name": "python",
   "nbconvert_exporter": "python",
   "pygments_lexer": "ipython3",
   "version": "3.11.5"
  }
 },
 "nbformat": 4,
 "nbformat_minor": 2
}
